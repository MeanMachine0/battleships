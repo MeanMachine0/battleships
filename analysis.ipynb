{
 "cells": [
  {
   "cell_type": "code",
   "execution_count": 1,
   "metadata": {},
   "outputs": [],
   "source": [
    "import pandas as pd\n",
    "import test_main\n",
    "\n",
    "# Generating the data:\n",
    "results = []\n",
    "for seed in range(100000):\n",
    "    try:\n",
    "        results.append(test_main.test_random_battleships(seed, True))\n",
    "    except:\n",
    "        pass # Excludes the 4 failures\n",
    "pd.DataFrame(data=results, columns=['num_attacks', 'board']).to_csv('results.csv', index=False)"
   ]
  },
  {
   "cell_type": "code",
   "execution_count": 142,
   "metadata": {},
   "outputs": [
    {
     "data": {
      "text/html": [
       "<div>\n",
       "<style scoped>\n",
       "    .dataframe tbody tr th:only-of-type {\n",
       "        vertical-align: middle;\n",
       "    }\n",
       "\n",
       "    .dataframe tbody tr th {\n",
       "        vertical-align: top;\n",
       "    }\n",
       "\n",
       "    .dataframe thead th {\n",
       "        text-align: right;\n",
       "    }\n",
       "</style>\n",
       "<table border=\"1\" class=\"dataframe\">\n",
       "  <thead>\n",
       "    <tr style=\"text-align: right;\">\n",
       "      <th></th>\n",
       "      <th>num_attacks</th>\n",
       "      <th>board</th>\n",
       "    </tr>\n",
       "  </thead>\n",
       "  <tbody>\n",
       "    <tr>\n",
       "      <th>0</th>\n",
       "      <td>40</td>\n",
       "      <td>[[None, None, None, None, None, None, None, No...</td>\n",
       "    </tr>\n",
       "    <tr>\n",
       "      <th>1</th>\n",
       "      <td>44</td>\n",
       "      <td>[[None, None, None, None, None, None, None, No...</td>\n",
       "    </tr>\n",
       "    <tr>\n",
       "      <th>2</th>\n",
       "      <td>57</td>\n",
       "      <td>[[None, None, None, None, None, None, 'Cruiser...</td>\n",
       "    </tr>\n",
       "    <tr>\n",
       "      <th>3</th>\n",
       "      <td>33</td>\n",
       "      <td>[[None, None, None, None, None, None, None, No...</td>\n",
       "    </tr>\n",
       "    <tr>\n",
       "      <th>4</th>\n",
       "      <td>67</td>\n",
       "      <td>[[None, None, None, None, None, None, None, No...</td>\n",
       "    </tr>\n",
       "  </tbody>\n",
       "</table>\n",
       "</div>"
      ],
      "text/plain": [
       "   num_attacks                                              board\n",
       "0           40  [[None, None, None, None, None, None, None, No...\n",
       "1           44  [[None, None, None, None, None, None, None, No...\n",
       "2           57  [[None, None, None, None, None, None, 'Cruiser...\n",
       "3           33  [[None, None, None, None, None, None, None, No...\n",
       "4           67  [[None, None, None, None, None, None, None, No..."
      ]
     },
     "execution_count": 142,
     "metadata": {},
     "output_type": "execute_result"
    }
   ],
   "source": [
    "# Reading and testing the data is what it shold be:\n",
    "results = pd.read_csv('results.csv')\n",
    "results.head()"
   ]
  },
  {
   "cell_type": "code",
   "execution_count": 145,
   "metadata": {},
   "outputs": [
    {
     "data": {
      "text/plain": [
       "<Axes: title={'center': 'Number of Attacks to Sink all Ships'}>"
      ]
     },
     "execution_count": 145,
     "metadata": {},
     "output_type": "execute_result"
    },
    {
     "data": {
      "image/png": "[encoded data removed]",
      "text/plain": [
       "<Figure size 640x480 with 1 Axes>"
      ]
     },
     "metadata": {},
     "output_type": "display_data"
    }
   ],
   "source": [
    "import matplotlib.pyplot as plt\n",
    "import seaborn as sns\n",
    "\n",
    "sns.set_theme('notebook')\n",
    "sns.set_style('ticks')\n",
    "plt.title('Number of Attacks to Sink all Ships')\n",
    "results['num_attacks'].hist()"
   ]
  },
  {
   "cell_type": "code",
   "execution_count": 130,
   "metadata": {},
   "outputs": [
    {
     "name": "stdout",
     "output_type": "stream",
     "text": [
      "Median: 42.0\n",
      "Standard Deviation: 10.18\n"
     ]
    }
   ],
   "source": [
    "median = results['num_attacks'].median()\n",
    "std = results['num_attacks'].std()\n",
    "print(f'Median: {median}\\nStandard Deviation: {std.round(2)}')"
   ]
  },
  {
   "cell_type": "markdown",
   "metadata": {},
   "source": [
    "To create a better ship placing algorithm, I will pick a random board from the 100 most difficult boards tested (top 0.1%). This algorithm/function, 'set_board', can be found in main.py as a function in the 'Ai' class. I will save the most difficult boards to a file in the next cell:"
   ]
  },
  {
   "cell_type": "code",
   "execution_count": 143,
   "metadata": {},
   "outputs": [],
   "source": [
    "difficult_boards = results.sort_values('num_attacks').tail(100)['board']\n",
    "difficult_boards.to_csv('difficult-boards.csv', index=False)"
   ]
  }
 ],
 "metadata": {
  "kernelspec": {
   "display_name": ".venv",
   "language": "python",
   "name": "python3"
  },
  "language_info": {
   "codemirror_mode": {
    "name": "ipython",
    "version": 3
   },
   "file_extension": ".py",
   "mimetype": "text/x-python",
   "name": "python",
   "nbconvert_exporter": "python",
   "pygments_lexer": "ipython3",
   "version": "3.11.4"
  }
 },
 "nbformat": 4,
 "nbformat_minor": 2
}
