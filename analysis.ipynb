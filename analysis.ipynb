{
 "cells": [
  {
   "cell_type": "code",
   "execution_count": 35,
   "metadata": {},
   "outputs": [
    {
     "data": {
      "text/html": [
       "<div>\n",
       "<style scoped>\n",
       "    .dataframe tbody tr th:only-of-type {\n",
       "        vertical-align: middle;\n",
       "    }\n",
       "\n",
       "    .dataframe tbody tr th {\n",
       "        vertical-align: top;\n",
       "    }\n",
       "\n",
       "    .dataframe thead th {\n",
       "        text-align: right;\n",
       "    }\n",
       "</style>\n",
       "<table border=\"1\" class=\"dataframe\">\n",
       "  <thead>\n",
       "    <tr style=\"text-align: right;\">\n",
       "      <th></th>\n",
       "      <th>num_attacks</th>\n",
       "      <th>board</th>\n",
       "    </tr>\n",
       "  </thead>\n",
       "  <tbody>\n",
       "    <tr>\n",
       "      <th>0</th>\n",
       "      <td>57</td>\n",
       "      <td>[[None, None, None, None, None, None, None, No...</td>\n",
       "    </tr>\n",
       "    <tr>\n",
       "      <th>1</th>\n",
       "      <td>26</td>\n",
       "      <td>[[None, None, None, None, None, None, None, No...</td>\n",
       "    </tr>\n",
       "    <tr>\n",
       "      <th>2</th>\n",
       "      <td>42</td>\n",
       "      <td>[[None, None, None, None, None, None, Cruiser,...</td>\n",
       "    </tr>\n",
       "    <tr>\n",
       "      <th>3</th>\n",
       "      <td>46</td>\n",
       "      <td>[[None, None, None, None, None, None, None, No...</td>\n",
       "    </tr>\n",
       "    <tr>\n",
       "      <th>4</th>\n",
       "      <td>53</td>\n",
       "      <td>[[None, None, None, None, None, None, None, No...</td>\n",
       "    </tr>\n",
       "  </tbody>\n",
       "</table>\n",
       "</div>"
      ],
      "text/plain": [
       "   num_attacks                                              board\n",
       "0           57  [[None, None, None, None, None, None, None, No...\n",
       "1           26  [[None, None, None, None, None, None, None, No...\n",
       "2           42  [[None, None, None, None, None, None, Cruiser,...\n",
       "3           46  [[None, None, None, None, None, None, None, No...\n",
       "4           53  [[None, None, None, None, None, None, None, No..."
      ]
     },
     "execution_count": 35,
     "metadata": {},
     "output_type": "execute_result"
    }
   ],
   "source": [
    "import ast\n",
    "import numpy as np\n",
    "import pandas as pd\n",
    "\n",
    "results = pd.read_csv('results.csv')\n",
    "results['board'] = results['board'].apply(ast.literal_eval)\n",
    "results['board'] = results['board'].apply(np.array)\n",
    "results.head()"
   ]
  },
  {
   "cell_type": "code",
   "execution_count": 36,
   "metadata": {},
   "outputs": [
    {
     "name": "stdout",
     "output_type": "stream",
     "text": [
      "Difficult Boards:\n",
      "\n",
      "[None None None None None None None None None None]\n",
      "[None None None None None None None None None None]\n",
      "[None 'Cruiser' 'Cruiser' 'Cruiser' None None None None None None]\n",
      "[None None None None None None None None None None]\n",
      "[None None None None None None None None None None]\n",
      "['Destroyer' None None None None None None None None None]\n",
      "['Destroyer' None None None None None None None None None]\n",
      "[None None None 'Aircraft_Carrier' 'Aircraft_Carrier' 'Aircraft_Carrier'\n",
      " 'Aircraft_Carrier' 'Aircraft_Carrier' None None]\n",
      "[None None None 'Submarine' 'Submarine' 'Submarine' None None None None]\n",
      "['Battleship' 'Battleship' 'Battleship' 'Battleship' None None None None\n",
      " None None]\n",
      "\n",
      "[None None None None None None None None None None]\n",
      "[None None None None None None 'Battleship' 'Battleship' 'Battleship'\n",
      " 'Battleship']\n",
      "[None None None 'Aircraft_Carrier' 'Aircraft_Carrier' 'Aircraft_Carrier'\n",
      " 'Aircraft_Carrier' 'Aircraft_Carrier' None None]\n",
      "[None None None None None None None None None None]\n",
      "[None None 'Submarine' None None None None None None None]\n",
      "[None None 'Submarine' None None None None None None None]\n",
      "[None None 'Submarine' None None None None None None None]\n",
      "[None None None None None 'Destroyer' None None None None]\n",
      "[None None None None None 'Destroyer' None None None None]\n",
      "[None None 'Cruiser' 'Cruiser' 'Cruiser' None None None None None]\n",
      "\n",
      "['Aircraft_Carrier' 'Aircraft_Carrier' 'Aircraft_Carrier'\n",
      " 'Aircraft_Carrier' 'Aircraft_Carrier' None None None None None]\n",
      "[None None None None None None None None None None]\n",
      "[None None None None None None None None None None]\n",
      "[None None None 'Cruiser' 'Cruiser' 'Cruiser' None None None None]\n",
      "[None None None None None 'Submarine' 'Submarine' 'Submarine' None None]\n",
      "[None None None None None None None None None None]\n",
      "[None None None None None 'Destroyer' 'Destroyer' None None None]\n",
      "[None None None None None None None None None None]\n",
      "[None None None None None None None None None None]\n",
      "[None None None 'Battleship' 'Battleship' 'Battleship' 'Battleship' None\n",
      " None None]\n",
      "\n",
      "[None 'Cruiser' 'Cruiser' 'Cruiser' None None None 'Submarine' 'Submarine'\n",
      " 'Submarine']\n",
      "[None None None None None None None None None None]\n",
      "[None None None None None None None None None None]\n",
      "[None None None None 'Aircraft_Carrier' 'Aircraft_Carrier'\n",
      " 'Aircraft_Carrier' 'Aircraft_Carrier' 'Aircraft_Carrier' None]\n",
      "[None None None None None None None None None None]\n",
      "[None None None None None None 'Battleship' None None None]\n",
      "[None None None None None 'Destroyer' 'Battleship' None None None]\n",
      "[None None None None None 'Destroyer' 'Battleship' None None None]\n",
      "[None None None None None None 'Battleship' None None None]\n",
      "[None None None None None None None None None None]\n",
      "\n",
      "[None None None None None None None None None None]\n",
      "[None None None None None None None None None None]\n",
      "[None None None None None None 'Destroyer' 'Destroyer' None None]\n",
      "[None None None None None None 'Battleship' 'Battleship' 'Battleship'\n",
      " 'Battleship']\n",
      "[None None None None None None 'Aircraft_Carrier' None None None]\n",
      "['Cruiser' 'Cruiser' 'Cruiser' None None None 'Aircraft_Carrier' None None\n",
      " None]\n",
      "[None None None None None None 'Aircraft_Carrier' None None None]\n",
      "[None None None None None None 'Aircraft_Carrier' None None None]\n",
      "[None None None None None None 'Aircraft_Carrier' None None None]\n",
      "['Submarine' 'Submarine' 'Submarine' None None None None None None None]\n",
      "\n"
     ]
    }
   ],
   "source": [
    "difficult_boards = results.sort_values('num_attacks').tail()['board']\n",
    "print('Difficult Boards:\\n')\n",
    "for board in difficult_boards:\n",
    "    for col in board:\n",
    "        print(col)\n",
    "    print()"
   ]
  },
  {
   "cell_type": "code",
   "execution_count": 37,
   "metadata": {},
   "outputs": [
    {
     "data": {
      "text/plain": [
       "42.4434"
      ]
     },
     "execution_count": 37,
     "metadata": {},
     "output_type": "execute_result"
    },
    {
     "data": {
      "image/png": "[encoded data removed]",
      "text/plain": [
       "<Figure size 640x480 with 1 Axes>"
      ]
     },
     "metadata": {},
     "output_type": "display_data"
    }
   ],
   "source": [
    "import matplotlib.pyplot as plt\n",
    "import seaborn as sns\n",
    "\n",
    "sns.set_theme('notebook')\n",
    "sns.set_style('ticks')\n",
    "results['num_attacks'].hist()\n",
    "plt.title('Number of Attacks to Sink All Ships')\n",
    "results['num_attacks'].mean()"
   ]
  },
  {
   "cell_type": "code",
   "execution_count": 38,
   "metadata": {},
   "outputs": [
    {
     "data": {
      "text/plain": [
       "521     [[Aircraft_Carrier, Aircraft_Carrier, Aircraft...\n",
       "1041    [[None, None, None, None, None, None, None, No...\n",
       "3652    [[None, Cruiser, Cruiser, Cruiser, None, None,...\n",
       "4030    [[None, None, None, None, None, None, None, No...\n",
       "4755    [[None, None, None, None, None, None, None, No...\n",
       "Name: board, dtype: object"
      ]
     },
     "execution_count": 38,
     "metadata": {},
     "output_type": "execute_result"
    }
   ],
   "source": [
    "results['board'][results['num_attacks'] >= 70]"
   ]
  }
 ],
 "metadata": {
  "kernelspec": {
   "display_name": ".venv",
   "language": "python",
   "name": "python3"
  },
  "language_info": {
   "codemirror_mode": {
    "name": "ipython",
    "version": 3
   },
   "file_extension": ".py",
   "mimetype": "text/x-python",
   "name": "python",
   "nbconvert_exporter": "python",
   "pygments_lexer": "ipython3",
   "version": "3.10.10"
  }
 },
 "nbformat": 4,
 "nbformat_minor": 2
}
