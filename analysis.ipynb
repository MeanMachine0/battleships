{
 "cells": [
  {
   "cell_type": "code",
   "execution_count": 1,
   "metadata": {},
   "outputs": [],
   "source": [
    "import pandas as pd\n",
    "import test_main\n",
    "\n",
    "results = []\n",
    "for seed in range(100000):\n",
    "    try:\n",
    "        results.append(test_main.test_random_battleships(seed, True))\n",
    "    except:\n",
    "        pass # Excludes failures\n",
    "pd.DataFrame(data=results, columns=['num_attacks', 'board']).to_csv('results.csv', index=False)"
   ]
  },
  {
   "cell_type": "code",
   "execution_count": 2,
   "metadata": {},
   "outputs": [
    {
     "data": {
      "text/html": [
       "<div>\n",
       "<style scoped>\n",
       "    .dataframe tbody tr th:only-of-type {\n",
       "        vertical-align: middle;\n",
       "    }\n",
       "\n",
       "    .dataframe tbody tr th {\n",
       "        vertical-align: top;\n",
       "    }\n",
       "\n",
       "    .dataframe thead th {\n",
       "        text-align: right;\n",
       "    }\n",
       "</style>\n",
       "<table border=\"1\" class=\"dataframe\">\n",
       "  <thead>\n",
       "    <tr style=\"text-align: right;\">\n",
       "      <th></th>\n",
       "      <th>num_attacks</th>\n",
       "      <th>board</th>\n",
       "    </tr>\n",
       "  </thead>\n",
       "  <tbody>\n",
       "    <tr>\n",
       "      <th>0</th>\n",
       "      <td>40</td>\n",
       "      <td>[[None, None, None, None, None, None, None, No...</td>\n",
       "    </tr>\n",
       "    <tr>\n",
       "      <th>1</th>\n",
       "      <td>44</td>\n",
       "      <td>[[None, None, None, None, None, None, None, No...</td>\n",
       "    </tr>\n",
       "    <tr>\n",
       "      <th>2</th>\n",
       "      <td>57</td>\n",
       "      <td>[[None, None, None, None, None, None, Cruiser,...</td>\n",
       "    </tr>\n",
       "    <tr>\n",
       "      <th>3</th>\n",
       "      <td>33</td>\n",
       "      <td>[[None, None, None, None, None, None, None, No...</td>\n",
       "    </tr>\n",
       "    <tr>\n",
       "      <th>4</th>\n",
       "      <td>67</td>\n",
       "      <td>[[None, None, None, None, None, None, None, No...</td>\n",
       "    </tr>\n",
       "  </tbody>\n",
       "</table>\n",
       "</div>"
      ],
      "text/plain": [
       "   num_attacks                                              board\n",
       "0           40  [[None, None, None, None, None, None, None, No...\n",
       "1           44  [[None, None, None, None, None, None, None, No...\n",
       "2           57  [[None, None, None, None, None, None, Cruiser,...\n",
       "3           33  [[None, None, None, None, None, None, None, No...\n",
       "4           67  [[None, None, None, None, None, None, None, No..."
      ]
     },
     "execution_count": 2,
     "metadata": {},
     "output_type": "execute_result"
    }
   ],
   "source": [
    "import ast\n",
    "import numpy as np\n",
    "\n",
    "results = pd.read_csv('results.csv')\n",
    "results['board'] = results['board'].apply(ast.literal_eval)\n",
    "results['board'] = results['board'].apply(np.array)\n",
    "results.head()"
   ]
  },
  {
   "cell_type": "code",
   "execution_count": 3,
   "metadata": {},
   "outputs": [
    {
     "name": "stdout",
     "output_type": "stream",
     "text": [
      "Difficult Boards:\n",
      "\n",
      "[None None None None None None None 'Destroyer' None 'Submarine']\n",
      "[None None None None None None None 'Destroyer' None 'Submarine']\n",
      "[None None None None None None None None None 'Submarine']\n",
      "[None None None None None None None None None None]\n",
      "[None None None None None None None None None None]\n",
      "[None None None None None None 'Battleship' 'Battleship' 'Battleship'\n",
      " 'Battleship']\n",
      "[None None None None None None None None None 'Cruiser']\n",
      "[None None None None None None None None None 'Cruiser']\n",
      "[None None None None None None None None None 'Cruiser']\n",
      "[None None 'Aircraft_Carrier' 'Aircraft_Carrier' 'Aircraft_Carrier'\n",
      " 'Aircraft_Carrier' 'Aircraft_Carrier' None None None]\n",
      "\n",
      "[None None None None None None None None None None]\n",
      "[None None None None None None None None None None]\n",
      "[None None None None None None None None None None]\n",
      "[None None None None 'Submarine' None None 'Aircraft_Carrier' None None]\n",
      "[None None None None 'Submarine' None None 'Aircraft_Carrier' None None]\n",
      "[None None None None 'Submarine' None 'Battleship' 'Aircraft_Carrier' None\n",
      " None]\n",
      "[None None None None None None 'Battleship' 'Aircraft_Carrier' None None]\n",
      "[None None 'Cruiser' None None None 'Battleship' 'Aircraft_Carrier' None\n",
      " None]\n",
      "[None None 'Cruiser' None None None 'Battleship' None None 'Destroyer']\n",
      "[None None 'Cruiser' None None None None None None 'Destroyer']\n",
      "\n",
      "[None None None None None None None None None None]\n",
      "[None None None None None None None None None None]\n",
      "['Submarine' None None None None None None None None None]\n",
      "['Submarine' None None None None None None None None None]\n",
      "['Submarine' None None None None None None None None None]\n",
      "[None None None None 'Cruiser' 'Cruiser' 'Cruiser' None None None]\n",
      "[None None None None None 'Destroyer' 'Destroyer' None None 'Battleship']\n",
      "[None None None 'Aircraft_Carrier' 'Aircraft_Carrier' 'Aircraft_Carrier'\n",
      " 'Aircraft_Carrier' 'Aircraft_Carrier' None 'Battleship']\n",
      "[None None None None None None None None None 'Battleship']\n",
      "[None None None None None None None None None 'Battleship']\n",
      "\n",
      "[None None None None None None None None None None]\n",
      "[None None None None None None None None None None]\n",
      "[None None None None None None None None None None]\n",
      "[None None None None None None None None None None]\n",
      "[None None None None None None None 'Cruiser' 'Cruiser' 'Cruiser']\n",
      "[None None None None None None None None None None]\n",
      "['Battleship' None None 'Destroyer' 'Destroyer' None None None None None]\n",
      "['Battleship' None None None 'Submarine' 'Submarine' 'Submarine' None None\n",
      " None]\n",
      "['Battleship' None None None None None None None None None]\n",
      "['Battleship' 'Aircraft_Carrier' 'Aircraft_Carrier' 'Aircraft_Carrier'\n",
      " 'Aircraft_Carrier' 'Aircraft_Carrier' None None None None]\n",
      "\n",
      "['Cruiser' 'Cruiser' 'Cruiser' None None None None None None None]\n",
      "[None None None None None 'Aircraft_Carrier' None None None None]\n",
      "[None None None None None 'Aircraft_Carrier' None None None None]\n",
      "[None None None None None 'Aircraft_Carrier' None None None None]\n",
      "[None None 'Submarine' None None 'Aircraft_Carrier' None None None None]\n",
      "['Battleship' None 'Submarine' None None 'Aircraft_Carrier' None None None\n",
      " None]\n",
      "['Battleship' None 'Submarine' None None None None None None None]\n",
      "['Battleship' None None None None None None None None None]\n",
      "['Battleship' None None None None None None None None None]\n",
      "[None None None None None None 'Destroyer' 'Destroyer' None None]\n",
      "\n"
     ]
    }
   ],
   "source": [
    "difficult_boards = results.sort_values('num_attacks').tail()['board']\n",
    "print('Difficult Boards:\\n')\n",
    "for board in difficult_boards:\n",
    "    for col in board:\n",
    "        print(col)\n",
    "    print()"
   ]
  },
  {
   "cell_type": "code",
   "execution_count": 4,
   "metadata": {},
   "outputs": [
    {
     "data": {
      "text/plain": [
       "42.62688507540302"
      ]
     },
     "execution_count": 4,
     "metadata": {},
     "output_type": "execute_result"
    },
    {
     "data": {
      "image/png": "[encoded data removed]",
      "text/plain": [
       "<Figure size 640x480 with 1 Axes>"
      ]
     },
     "metadata": {},
     "output_type": "display_data"
    }
   ],
   "source": [
    "import matplotlib.pyplot as plt\n",
    "import seaborn as sns\n",
    "\n",
    "sns.set_theme('notebook')\n",
    "sns.set_style('ticks')\n",
    "results['num_attacks'].hist()\n",
    "plt.title('Number of Attacks to Sink All Ships')\n",
    "results['num_attacks'].mean()"
   ]
  },
  {
   "cell_type": "code",
   "execution_count": 5,
   "metadata": {},
   "outputs": [
    {
     "data": {
      "text/plain": [
       "456      [[None, None, None, None, Aircraft_Carrier, Cr...\n",
       "1316     [[None, None, None, None, None, None, None, No...\n",
       "1362     [[None, None, None, None, None, None, None, No...\n",
       "2601     [[None, None, None, None, None, None, None, No...\n",
       "2865     [[None, None, None, Battleship, None, None, No...\n",
       "                               ...                        \n",
       "95667    [[None, None, None, None, None, None, None, No...\n",
       "96044    [[None, None, Destroyer, Destroyer, None, None...\n",
       "97218    [[Aircraft_Carrier, Aircraft_Carrier, Aircraft...\n",
       "97807    [[None, None, Destroyer, Destroyer, None, None...\n",
       "99829    [[None, None, None, None, None, None, None, No...\n",
       "Name: board, Length: 115, dtype: object"
      ]
     },
     "execution_count": 5,
     "metadata": {},
     "output_type": "execute_result"
    }
   ],
   "source": [
    "results['board'][results['num_attacks'] >= 70]"
   ]
  }
 ],
 "metadata": {
  "kernelspec": {
   "display_name": ".venv",
   "language": "python",
   "name": "python3"
  },
  "language_info": {
   "codemirror_mode": {
    "name": "ipython",
    "version": 3
   },
   "file_extension": ".py",
   "mimetype": "text/x-python",
   "name": "python",
   "nbconvert_exporter": "python",
   "pygments_lexer": "ipython3",
   "version": "3.11.4"
  }
 },
 "nbformat": 4,
 "nbformat_minor": 2
}
